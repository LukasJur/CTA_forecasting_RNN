{
 "cells": [
  {
   "cell_type": "code",
   "execution_count": 5,
   "metadata": {},
   "outputs": [
    {
     "name": "stderr",
     "output_type": "stream",
     "text": [
      "Using TensorFlow backend.\n"
     ]
    }
   ],
   "source": [
    "# Importing the libraries\n",
    "import numpy as np\n",
    "import matplotlib.pyplot as plt\n",
    "import pandas as pd\n",
    "plt.style.use('seaborn-whitegrid')\n",
    "\n",
    "from sklearn.metrics import mean_squared_error, mean_absolute_error\n",
    "from sklearn.linear_model import LinearRegression, Lasso, Ridge\n",
    "from sklearn.model_selection import cross_val_score\n",
    "from sklearn.preprocessing import MinMaxScaler\n",
    "from keras.models import Sequential\n",
    "from keras.layers import Dense, LSTM, Dropout\n",
    "from keras.optimizers import SGD\n",
    "import math\n",
    "import os\n",
    "import re\n",
    "import calendar\n",
    "from datetime import datetime\n",
    "import ast"
   ]
  },
  {
   "cell_type": "code",
   "execution_count": 6,
   "metadata": {},
   "outputs": [],
   "source": [
    "# Parsing general parameters\n",
    "\n",
    "path_to_CTA = '/home/jupyter/CTA data/'\n",
    "path_to_params = '/home/jupyter/CTA params/'\n",
    "cutoff_date = '2006-12-01'\n",
    "fileNames = os.listdir(path_to_CTA)\n",
    "fileNames = list(filter(lambda x: x.endswith('.csv'), fileNames))"
   ]
  },
  {
   "cell_type": "code",
   "execution_count": 7,
   "metadata": {},
   "outputs": [],
   "source": [
    "# Take crude oil data\n",
    "oil = pd.read_csv(path_to_params + 'MCOILWTICO.csv')\n",
    "oil.rename(columns=lambda x: x.strip(), inplace=True)\n",
    "oil['DATE'] = pd.to_datetime(oil['DATE'], format='%Y-%m')\n",
    "oil = oil.set_index('DATE')"
   ]
  },
  {
   "cell_type": "code",
   "execution_count": 8,
   "metadata": {},
   "outputs": [],
   "source": [
    "# Take gold data\n",
    "aux = pd.read_csv(path_to_params + 'AUX-USD-2592000-20200523172420.csv', parse_dates=['Date'])\n",
    "aux.rename(columns=lambda x: x.strip(), inplace=True)\n",
    "aux['Date'] = aux['Date'].apply(lambda dt: dt.replace(day=1))\n",
    "aux.drop_duplicates(subset =\"Date\", \n",
    "                     keep = 'first', inplace = True)\n",
    "aux = aux.set_index('Date')\n",
    "aux = aux.reindex(index=aux.index[::-1])"
   ]
  },
  {
   "cell_type": "code",
   "execution_count": 9,
   "metadata": {},
   "outputs": [],
   "source": [
    "# Take silver data\n",
    "agx = pd.read_csv(path_to_params + 'AGX-USD-2592000-20200523172540.csv', parse_dates=['Date'])\n",
    "agx.rename(columns=lambda x: x.strip(), inplace=True)\n",
    "agx['Date'] = agx['Date'].apply(lambda dt: dt.replace(day=1))\n",
    "agx.drop_duplicates(subset =\"Date\", \n",
    "                     keep = 'first', inplace = True)\n",
    "agx = agx.set_index('Date')\n",
    "agx = agx.reindex(index=agx.index[::-1])\n"
   ]
  },
  {
   "cell_type": "code",
   "execution_count": 10,
   "metadata": {},
   "outputs": [],
   "source": [
    "# Take Producer Price index data\n",
    "ppi = pd.read_csv(path_to_params + 'PPIACO.csv', parse_dates=['DATE'])\n",
    "ppi.rename(columns=lambda x: x.strip(), inplace=True)\n",
    "ppi.drop_duplicates(subset =\"DATE\", \n",
    "                     keep = 'first', inplace = True)\n",
    "ppi = ppi.set_index('DATE')"
   ]
  },
  {
   "cell_type": "code",
   "execution_count": 11,
   "metadata": {},
   "outputs": [],
   "source": [
    "\n",
    "# Take BTOP50 index data\n",
    "btop = pd.read_csv(path_to_params + 'BTOP50_Index_historical_data.csv')\n",
    "btop = btop.iloc[:34]\n",
    "btop_df = pd.DataFrame(columns=['Date', 'BTOP50'])\n",
    "# print(btop_df)\n",
    "for index, row in btop.iterrows():\n",
    "    for idx, value in row[1:].items():\n",
    "        year = int(row[0])\n",
    "        month = list(calendar.month_abbr).index(idx)\n",
    "        actual_date = datetime(year=year, month=month, day=1)\n",
    "        btop_df = btop_df.append({'Date':actual_date,'BTOP50':value},ignore_index=True)\n",
    "        btop_df = btop_df[btop_df['Date'] < '2020-05-01']\n",
    "        btop_df = btop_df[btop_df['Date'] >= cutoff_date]\n",
    "\n",
    "btop_df['BTOP50'] = btop_df['BTOP50'].apply(lambda x: x.strip('%')).astype(float)\n",
    "btop_df = btop_df.set_index('Date')\n",
    "del btop"
   ]
  },
  {
   "cell_type": "code",
   "execution_count": 12,
   "metadata": {},
   "outputs": [],
   "source": [
    "# Take CTA index data\n",
    "ctai_list = (open(path_to_params + \"cta_index_formated.txt\", \"r\").read())\n",
    "ctai_list = ast.literal_eval(ctai_list)\n",
    "ctai_df = pd.DataFrame.from_records(ctai_list)\n",
    "ctai_df['Date'] = pd.to_datetime(ctai_df['year'].astype(str) + '-' + ctai_df['month'].astype(str), format='%Y-%m')\n",
    "ctai_df = ctai_df.set_index('Date')\n",
    "del ctai_list"
   ]
  },
  {
   "cell_type": "code",
   "execution_count": 13,
   "metadata": {},
   "outputs": [],
   "source": [
    "CTAs = {}\n",
    "end_date = '2020-03-01'\n",
    "# Take CTA data\n",
    "for fName in fileNames:\n",
    "    df = pd.read_csv(path_to_CTA + fName)\n",
    "    df.rename(columns=lambda x: x.strip(), inplace=True)\n",
    "    df[\"Month\"] = df.Month.map(\"{:02}\".format)\n",
    "    df['Date'] = pd.to_datetime(df['Year'].astype(str) + '-' + df['Month'].astype(str), format='%Y-%m')\n",
    "    df = df.set_index('Date')\n",
    "    df = df.loc[cutoff_date:]\n",
    "    df.drop(columns=['Year','Month'], inplace=True)\n",
    "    # Insert params to df\n",
    "    df['Oil'] = oil.loc[cutoff_date:]['MCOILWTICO']\n",
    "    df['AUX'] = aux.loc[cutoff_date:]['Close (kg)']\n",
    "    df['AGX'] = agx.loc[cutoff_date:]['Close (kg)']\n",
    "    df['PPI'] = ppi.loc[cutoff_date:]['PPIACO']\n",
    "    df['BTOP50'] = btop_df['BTOP50']\n",
    "    df['CTA_IDX'] = ctai_df.loc[cutoff_date:]['value']\n",
    "    df.ffill(axis=0, inplace=True, limit=None, downcast=None)\n",
    "    CTAs[fName] = df.loc[:end_date]\n",
    "\n",
    "del oil, aux, agx, ppi, ctai_df, btop_df    "
   ]
  },
  {
   "cell_type": "code",
   "execution_count": 14,
   "metadata": {},
   "outputs": [
    {
     "name": "stdout",
     "output_type": "stream",
     "text": [
      "110\n",
      "51\n"
     ]
    }
   ],
   "source": [
    "train_start = '2006-12-01'\n",
    "train_end = '2016-01-01' # inclusive\n",
    "test_end = '2020-04-01' # inclusive\n",
    "\n",
    "for fName in fileNames:\n",
    "    # Mark as train and test sets\n",
    "    df = CTAs[fName]\n",
    "    df['DataSet_1'] = 'Test'\n",
    "    df.loc[train_start:train_end,'DataSet_1'] = 'Train'\n",
    "    \n",
    "print(len(CTAs[fileNames[0]].loc[train_start:train_end]))\n",
    "print(len(CTAs[fileNames[0]].loc[train_end:]))"
   ]
  },
  {
   "cell_type": "code",
   "execution_count": 15,
   "metadata": {},
   "outputs": [],
   "source": [
    "# Scaling the training and testing set\n",
    "transform_train = {}\n",
    "transform_test = {}\n",
    "scaler = {}\n",
    "\n",
    "for num, fName in enumerate(fileNames): \n",
    "    sc = MinMaxScaler(feature_range=(0,1))\n",
    "    df = CTAs[fName]\n",
    "    a0 = np.array(df[df[\"DataSet_1\"] == 'Train'].iloc[:,:-1])\n",
    "    a1 = np.array(df[df[\"DataSet_1\"] == 'Test'].iloc[:,:-1])\n",
    "    transform_train[fName] = sc.fit_transform(a0)\n",
    "    transform_test[fName] = sc.fit_transform(a1)\n",
    "    scaler[fName] = sc\n",
    "\n",
    "del a0\n",
    "del a1"
   ]
  },
  {
   "cell_type": "code",
   "execution_count": 16,
   "metadata": {},
   "outputs": [],
   "source": [
    "trainset = {}\n",
    "testset = {}\n",
    "\n",
    "timestep = 10\n",
    "train_set_size = 110 # default value\n",
    "test_set_size = 50 # defaul value\n",
    "feature_count = 8\n",
    "\n",
    "# For every CTA, create train set and validation set\n",
    "# the value of past 10 time steps\n",
    "# Result of input should be 3D Vector (Sample size, time steps, features)\n",
    "# in this case for train set (100, 10, 8)\n",
    "# for test set (40, 10, 8)\n",
    "# total sample size 161 = 100 (train set) + 10 (validation set) + 40 (test set) + 10\n",
    " \n",
    "for fName in fileNames:\n",
    "    train_set_size = len(transform_train[fName]) \n",
    "    test_set_size = len(transform_test[fName])\n",
    "    # Create train set\n",
    "    trainset[fName] = {}\n",
    "    X_train = []\n",
    "    y_train = []\n",
    "    for i in range(timestep,train_set_size):\n",
    "        X_train.append(transform_train[fName][i-timestep:i,:])\n",
    "        y_train.append(transform_train[fName][i,0])\n",
    "    X_train, y_train = np.array(X_train), np.array(y_train)\n",
    "    trainset[fName][\"X\"] = np.reshape(X_train, (X_train.shape[0],X_train.shape[1], feature_count))\n",
    "    trainset[fName][\"y\"] = y_train\n",
    "\n",
    "    # Create test set\n",
    "    testset[fName] = {}\n",
    "    X_test = []\n",
    "    y_test = []    \n",
    "    for i in range(timestep, test_set_size):\n",
    "        X_test.append(transform_test[fName][i-timestep:i,:])\n",
    "        y_test.append(transform_test[fName][i,0])\n",
    "    \n",
    "    X_test, y_test = np.array(X_test), np.array(y_test)\n",
    "    testset[fName][\"X\"] = np.reshape(X_test, (X_test.shape[0], X_train.shape[1], feature_count))\n",
    "    testset[fName][\"y\"] = y_test"
   ]
  },
  {
   "cell_type": "code",
   "execution_count": 17,
   "metadata": {},
   "outputs": [
    {
     "data": {
      "text/html": [
       "<div>\n",
       "<style scoped>\n",
       "    .dataframe tbody tr th:only-of-type {\n",
       "        vertical-align: middle;\n",
       "    }\n",
       "\n",
       "    .dataframe tbody tr th {\n",
       "        vertical-align: top;\n",
       "    }\n",
       "\n",
       "    .dataframe thead th {\n",
       "        text-align: right;\n",
       "    }\n",
       "</style>\n",
       "<table border=\"1\" class=\"dataframe\">\n",
       "  <thead>\n",
       "    <tr style=\"text-align: right;\">\n",
       "      <th></th>\n",
       "      <th>X_train</th>\n",
       "      <th>y_train</th>\n",
       "      <th>X_test</th>\n",
       "      <th>y_test</th>\n",
       "    </tr>\n",
       "  </thead>\n",
       "  <tbody>\n",
       "    <tr>\n",
       "      <th>Mondiale-Asset-Management-Mondiale-Trading-Program-2X-_data.csv</th>\n",
       "      <td>(100, 10, 8)</td>\n",
       "      <td>(100,)</td>\n",
       "      <td>(40, 10, 8)</td>\n",
       "      <td>(40,)</td>\n",
       "    </tr>\n",
       "    <tr>\n",
       "      <th>FTC-Capital-GmbH-FTC-Futures-Fund-Classic-EUR-_data.csv</th>\n",
       "      <td>(100, 10, 8)</td>\n",
       "      <td>(100,)</td>\n",
       "      <td>(40, 10, 8)</td>\n",
       "      <td>(40,)</td>\n",
       "    </tr>\n",
       "    <tr>\n",
       "      <th>Global-Bayesian-Dynamics-LLC-SBF-Proprietary-_data.csv</th>\n",
       "      <td>(100, 10, 8)</td>\n",
       "      <td>(100,)</td>\n",
       "      <td>(40, 10, 8)</td>\n",
       "      <td>(40,)</td>\n",
       "    </tr>\n",
       "    <tr>\n",
       "      <th>Molinero-Capital-Management-LLP-Global-Markets-Program_data.csv</th>\n",
       "      <td>(100, 10, 8)</td>\n",
       "      <td>(100,)</td>\n",
       "      <td>(40, 10, 8)</td>\n",
       "      <td>(40,)</td>\n",
       "    </tr>\n",
       "    <tr>\n",
       "      <th>FORT-LP-Fort-Global-Contrarian_data.csv</th>\n",
       "      <td>(100, 10, 8)</td>\n",
       "      <td>(100,)</td>\n",
       "      <td>(40, 10, 8)</td>\n",
       "      <td>(40,)</td>\n",
       "    </tr>\n",
       "    <tr>\n",
       "      <th>...</th>\n",
       "      <td>...</td>\n",
       "      <td>...</td>\n",
       "      <td>...</td>\n",
       "      <td>...</td>\n",
       "    </tr>\n",
       "    <tr>\n",
       "      <th>DUNN-Capital-Management-World-Monetary-and-Agriculture-Program-WMA-_data.csv</th>\n",
       "      <td>(100, 10, 8)</td>\n",
       "      <td>(100,)</td>\n",
       "      <td>(40, 10, 8)</td>\n",
       "      <td>(40,)</td>\n",
       "    </tr>\n",
       "    <tr>\n",
       "      <th>Adalpha-Asset-Management-LLC-Adalpha-Diversified-Short-Term-Program_data.csv</th>\n",
       "      <td>(100, 10, 8)</td>\n",
       "      <td>(100,)</td>\n",
       "      <td>(40, 10, 8)</td>\n",
       "      <td>(40,)</td>\n",
       "    </tr>\n",
       "    <tr>\n",
       "      <th>Mulvaney-Capital-Management-The-Mulvaney-Global-Markets-Fund_data.csv</th>\n",
       "      <td>(100, 10, 8)</td>\n",
       "      <td>(100,)</td>\n",
       "      <td>(40, 10, 8)</td>\n",
       "      <td>(40,)</td>\n",
       "    </tr>\n",
       "    <tr>\n",
       "      <th>AIS-Capital-Management-L-P-MAAP-3x-6x-Composite_data.csv</th>\n",
       "      <td>(100, 10, 8)</td>\n",
       "      <td>(100,)</td>\n",
       "      <td>(40, 10, 8)</td>\n",
       "      <td>(40,)</td>\n",
       "    </tr>\n",
       "    <tr>\n",
       "      <th>Superfund-Group-Superfund-Green-Q-AG_data.csv</th>\n",
       "      <td>(100, 10, 8)</td>\n",
       "      <td>(100,)</td>\n",
       "      <td>(40, 10, 8)</td>\n",
       "      <td>(40,)</td>\n",
       "    </tr>\n",
       "  </tbody>\n",
       "</table>\n",
       "<p>79 rows × 4 columns</p>\n",
       "</div>"
      ],
      "text/plain": [
       "                                                         X_train y_train  \\\n",
       "Mondiale-Asset-Management-Mondiale-Trading-Prog...  (100, 10, 8)  (100,)   \n",
       "FTC-Capital-GmbH-FTC-Futures-Fund-Classic-EUR-_...  (100, 10, 8)  (100,)   \n",
       "Global-Bayesian-Dynamics-LLC-SBF-Proprietary-_d...  (100, 10, 8)  (100,)   \n",
       "Molinero-Capital-Management-LLP-Global-Markets-...  (100, 10, 8)  (100,)   \n",
       "FORT-LP-Fort-Global-Contrarian_data.csv             (100, 10, 8)  (100,)   \n",
       "...                                                          ...     ...   \n",
       "DUNN-Capital-Management-World-Monetary-and-Agri...  (100, 10, 8)  (100,)   \n",
       "Adalpha-Asset-Management-LLC-Adalpha-Diversifie...  (100, 10, 8)  (100,)   \n",
       "Mulvaney-Capital-Management-The-Mulvaney-Global...  (100, 10, 8)  (100,)   \n",
       "AIS-Capital-Management-L-P-MAAP-3x-6x-Composite...  (100, 10, 8)  (100,)   \n",
       "Superfund-Group-Superfund-Green-Q-AG_data.csv       (100, 10, 8)  (100,)   \n",
       "\n",
       "                                                         X_test y_test  \n",
       "Mondiale-Asset-Management-Mondiale-Trading-Prog...  (40, 10, 8)  (40,)  \n",
       "FTC-Capital-GmbH-FTC-Futures-Fund-Classic-EUR-_...  (40, 10, 8)  (40,)  \n",
       "Global-Bayesian-Dynamics-LLC-SBF-Proprietary-_d...  (40, 10, 8)  (40,)  \n",
       "Molinero-Capital-Management-LLP-Global-Markets-...  (40, 10, 8)  (40,)  \n",
       "FORT-LP-Fort-Global-Contrarian_data.csv             (40, 10, 8)  (40,)  \n",
       "...                                                         ...    ...  \n",
       "DUNN-Capital-Management-World-Monetary-and-Agri...  (40, 10, 8)  (40,)  \n",
       "Adalpha-Asset-Management-LLC-Adalpha-Diversifie...  (40, 10, 8)  (40,)  \n",
       "Mulvaney-Capital-Management-The-Mulvaney-Global...  (40, 10, 8)  (40,)  \n",
       "AIS-Capital-Management-L-P-MAAP-3x-6x-Composite...  (40, 10, 8)  (40,)  \n",
       "Superfund-Group-Superfund-Green-Q-AG_data.csv       (40, 10, 8)  (40,)  \n",
       "\n",
       "[79 rows x 4 columns]"
      ]
     },
     "execution_count": 17,
     "metadata": {},
     "output_type": "execute_result"
    }
   ],
   "source": [
    "# Check the shapes of input\n",
    "arr_buff = []\n",
    "for i in fileNames:\n",
    "    buff = {}\n",
    "    buff[\"X_train\"] = trainset[i][\"X\"].shape\n",
    "    buff[\"y_train\"] = trainset[i][\"y\"].shape\n",
    "    buff[\"X_test\"] = testset[i][\"X\"].shape\n",
    "    buff[\"y_test\"] = testset[i][\"y\"].shape\n",
    "    arr_buff.append(buff)\n",
    "\n",
    "pd.DataFrame(arr_buff, index=fileNames)"
   ]
  },
  {
   "cell_type": "code",
   "execution_count": null,
   "metadata": {},
   "outputs": [],
   "source": [
    "# The LSTM architecture\n",
    "regressor = Sequential()\n",
    "# First LSTM layer with Dropout regularisation\n",
    "regressor.add(LSTM(units=30, return_sequences=False, input_shape=(X_train.shape[1],feature_count)))\n",
    "regressor.add(Dropout(0.2))\n",
    "# The output layer\n",
    "regressor.add(Dense(units=1))\n",
    "\n",
    "# Compiling the RNN\n",
    "regressor.compile(optimizer='adam', loss='mean_squared_error')\n"
   ]
  },
  {
   "cell_type": "code",
   "execution_count": null,
   "metadata": {},
   "outputs": [],
   "source": [
    "# Fitting to the training set\n",
    "for i, fName in enumerate(fileNames):\n",
    "    print(i+1, \". Fitting to\", fName)\n",
    "    regressor.fit(trainset[fName][\"X\"], trainset[fName][\"y\"], epochs=30, batch_size=200)"
   ]
  },
  {
   "cell_type": "code",
   "execution_count": 18,
   "metadata": {},
   "outputs": [],
   "source": [
    "from keras.models import load_model\n",
    "# regressor.save('cta_60.h5')\n",
    "regressor = load_model('cta_60.h5', custom_objects=None, compile=True)"
   ]
  },
  {
   "cell_type": "code",
   "execution_count": 19,
   "metadata": {},
   "outputs": [
    {
     "data": {
      "image/png": "[encoded data removed]",
      "text/plain": [
       "<IPython.core.display.Image object>"
      ]
     },
     "execution_count": 19,
     "metadata": {},
     "output_type": "execute_result"
    }
   ],
   "source": [
    "from keras.utils import plot_model\n",
    "img_file = 'model_2.png'\n",
    "plot_model(regressor, to_file=img_file, show_shapes=True)"
   ]
  },
  {
   "cell_type": "code",
   "execution_count": 20,
   "metadata": {},
   "outputs": [
    {
     "name": "stdout",
     "output_type": "stream",
     "text": [
      "Model: \"sequential_4\"\n",
      "_________________________________________________________________\n",
      "Layer (type)                 Output Shape              Param #   \n",
      "=================================================================\n",
      "lstm_5 (LSTM)                (None, 30)                4680      \n",
      "_________________________________________________________________\n",
      "dropout_5 (Dropout)          (None, 30)                0         \n",
      "_________________________________________________________________\n",
      "dense_4 (Dense)              (None, 1)                 31        \n",
      "=================================================================\n",
      "Total params: 4,711\n",
      "Trainable params: 4,711\n",
      "Non-trainable params: 0\n",
      "_________________________________________________________________\n"
     ]
    }
   ],
   "source": [
    "regressor.summary()"
   ]
  },
  {
   "cell_type": "code",
   "execution_count": 21,
   "metadata": {},
   "outputs": [],
   "source": [
    "def fill_error_dictionary(dict, true_vals, pred_vals, round_count = 4):\n",
    "    mse = mean_squared_error(true_vals, pred_vals)\n",
    "    dict[\"MSE\"] = round(mse, round_count)\n",
    "    dict[\"RMSE\"] = round(math.sqrt(mse), round_count)\n",
    "    dict[\"MAE\"] = round(mean_absolute_error(true_vals, pred_vals), round_count)"
   ]
  },
  {
   "cell_type": "code",
   "execution_count": 22,
   "metadata": {},
   "outputs": [],
   "source": [
    "pred_result = {}\n",
    "error_dict = {\"RNN\": {}, \"LIN_R\": {}, \"LASSO\": {}, \"RIDGE\":{}}\n",
    "true_arr = np.array([])\n",
    "pred_arr = np.array([])\n",
    "\n",
    "\n",
    "for fName in fileNames:\n",
    "    # With inverse scaling\n",
    "    # y_true = scaler[fName].inverse_transform(testset[fName][\"y\"].reshape(-1,8))\n",
    "    # y_pred = scaler[fName].inverse_transform(regressor.predict(testset[fName][\"X\"]))\n",
    "    pred_norm = regressor.predict(testset[fName][\"X\"])\n",
    "    true_norm = testset[fName][\"y\"]\n",
    "    true_arr = np.append(true_arr, true_norm)\n",
    "    pred_arr = np.append(pred_arr, pred_norm)\n",
    "    pred_result[fName] = {}\n",
    "    pred_result[fName][\"True\"] = true_norm\n",
    "    pred_result[fName][\"Pred\"] = pred_norm\n",
    "   \n",
    "fill_error_dictionary(error_dict[\"RNN\"], true_arr, pred_arr, 4)"
   ]
  },
  {
   "cell_type": "code",
   "execution_count": 23,
   "metadata": {},
   "outputs": [
    {
     "name": "stdout",
     "output_type": "stream",
     "text": [
      "(7886, 10, 8) (7886,) (3123, 10, 8) (3123,)\n"
     ]
    }
   ],
   "source": [
    "# Collect all train and test sets\n",
    "all_test_x = np.array([])\n",
    "all_train_x = np.array([])\n",
    "all_test_y, all_train_y = np.array([]), np.array([])\n",
    "for fName in fileNames:\n",
    "    all_train_x = np.append(all_train_x, trainset[fName][\"X\"]).reshape(-1, trainset[fName][\"X\"].shape[1], trainset[fName][\"X\"].shape[2])\n",
    "    all_train_y = np.append(all_train_y, trainset[fName][\"y\"])\n",
    "    all_test_x = np.append(all_test_x, testset[fName][\"X\"]).reshape(-1, testset[fName][\"X\"].shape[1], testset[fName][\"X\"].shape[2])\n",
    "    all_test_y = np.append(all_test_y, testset[fName][\"y\"])\n",
    "\n",
    "print(all_train_x.shape, all_train_y.shape, all_test_x.shape, all_test_y.shape)\n",
    "# MSEs = cross_val_score(lin_reg, Xm y, scoring='neg_mean_squared_error', cv=5)mean_MSE"
   ]
  },
  {
   "cell_type": "code",
   "execution_count": 44,
   "metadata": {},
   "outputs": [],
   "source": [
    "def fetch_2d_set(dataset):\n",
    "        nsamples, nx, ny = dataset.shape\n",
    "        return dataset.reshape((nsamples,nx*ny))"
   ]
  },
  {
   "cell_type": "code",
   "execution_count": 89,
   "metadata": {},
   "outputs": [
    {
     "data": {
      "text/plain": [
       "{'RNN': {'MSE': 0.0466, 'RMSE': 0.216, 'MAE': 0.1712},\n",
       " 'LIN_R': {'MSE': 0.0704, 'RMSE': 0.2653, 'MAE': 0.212},\n",
       " 'LASSO': {'MSE': 0.0517, 'RMSE': 0.2275, 'MAE': 0.1826},\n",
       " 'RIDGE': {'MSE': 0.0636, 'RMSE': 0.2522, 'MAE': 0.2018}}"
      ]
     },
     "execution_count": 89,
     "metadata": {},
     "output_type": "execute_result"
    }
   ],
   "source": [
    "models = [\n",
    "    ('LIN_R', LinearRegression()),\n",
    "    ('LASSO', Lasso()),\n",
    "    ('RIDGE', Ridge()),\n",
    "]\n",
    "for name, model in models:\n",
    "        clf = model\n",
    "        clf.fit(fetch_2d_set(all_train_x), all_train_y)\n",
    "        predicted_y = model.predict(fetch_2d_set(all_test_x))\n",
    "        fill_error_dictionary(error_dict[name], all_test_y, predicted_y)\n",
    "        \n",
    "error_dict"
   ]
  },
  {
   "cell_type": "code",
   "execution_count": 4,
   "metadata": {},
   "outputs": [
    {
     "ename": "NameError",
     "evalue": "name 'pd' is not defined",
     "output_type": "error",
     "traceback": [
      "\u001b[0;31m---------------------------------------------------------------------------\u001b[0m",
      "\u001b[0;31mNameError\u001b[0m                                 Traceback (most recent call last)",
      "\u001b[0;32m<ipython-input-4-1f403e12c44a>\u001b[0m in \u001b[0;36m<module>\u001b[0;34m\u001b[0m\n\u001b[1;32m      1\u001b[0m \u001b[0mcols\u001b[0m \u001b[0;34m=\u001b[0m \u001b[0;34m[\u001b[0m\u001b[0;34m\"Paklaidos matavimas\"\u001b[0m\u001b[0;34m,\u001b[0m\u001b[0;34m\"Tiesinė regresija\"\u001b[0m\u001b[0;34m,\u001b[0m \u001b[0;34m\"Laso regresija\"\u001b[0m\u001b[0;34m,\u001b[0m \u001b[0;34m\"Keteros regresija\"\u001b[0m\u001b[0;34m,\u001b[0m \u001b[0;34m\"Neur. tinklas\"\u001b[0m \u001b[0;34m]\u001b[0m\u001b[0;34m\u001b[0m\u001b[0;34m\u001b[0m\u001b[0m\n\u001b[0;32m----> 2\u001b[0;31m \u001b[0mdf\u001b[0m \u001b[0;34m=\u001b[0m \u001b[0mpd\u001b[0m\u001b[0;34m.\u001b[0m\u001b[0mDataFrame\u001b[0m\u001b[0;34m(\u001b[0m\u001b[0mcolumns\u001b[0m\u001b[0;34m=\u001b[0m\u001b[0mcols\u001b[0m\u001b[0;34m)\u001b[0m\u001b[0;34m\u001b[0m\u001b[0;34m\u001b[0m\u001b[0m\n\u001b[0m",
      "\u001b[0;31mNameError\u001b[0m: name 'pd' is not defined"
     ]
    }
   ],
   "source": [
    "cols = [\"Paklaidos matavimas\",\"Tiesinė regresija\", \"Laso regresija\", \"Keteros regresija\", \"Neur. tinklas\" ]\n",
    "df = pd.DataFrame(columns=cols)\n"
   ]
  },
  {
   "cell_type": "code",
   "execution_count": null,
   "metadata": {},
   "outputs": [],
   "source": []
  }
 ],
 "metadata": {
  "environment": {
   "name": "tf2-cpu.2-1.m46",
   "type": "gcloud",
   "uri": "gcr.io/deeplearning-platform-release/tf2-cpu.2-1:m46"
  },
  "kernelspec": {
   "display_name": "Python 3",
   "language": "python",
   "name": "python3"
  },
  "language_info": {
   "codemirror_mode": {
    "name": "ipython",
    "version": 3
   },
   "file_extension": ".py",
   "mimetype": "text/x-python",
   "name": "python",
   "nbconvert_exporter": "python",
   "pygments_lexer": "ipython3",
   "version": "3.7.6"
  }
 },
 "nbformat": 4,
 "nbformat_minor": 4
}
